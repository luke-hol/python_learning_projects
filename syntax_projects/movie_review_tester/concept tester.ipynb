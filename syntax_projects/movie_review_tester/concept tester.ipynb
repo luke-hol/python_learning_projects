{
 "metadata": {
  "language_info": {
   "codemirror_mode": {
    "name": "ipython",
    "version": 3
   },
   "file_extension": ".py",
   "mimetype": "text/x-python",
   "name": "python",
   "nbconvert_exporter": "python",
   "pygments_lexer": "ipython3",
   "version": "3.8.5-final"
  },
  "orig_nbformat": 2,
  "kernelspec": {
   "name": "Python 3.8.5 32-bit",
   "display_name": "Python 3.8.5 32-bit",
   "metadata": {
    "interpreter": {
     "hash": "6fa8c4a0213b3e8e46e64ca221d4ef2f7254b1e53b83d6209b624a99d7aa7db4"
    }
   }
  }
 },
 "nbformat": 4,
 "nbformat_minor": 2,
 "cells": [
  {
   "cell_type": "code",
   "execution_count": 2,
   "metadata": {
    "tags": []
   },
   "outputs": [],
   "source": [
    "romance = {'Crazy, Stupid Love', 'Definitely, Maybe', 'Love Actually', '500 Days of Summer'}"
   ]
  },
  {
   "cell_type": "code",
   "execution_count": 3,
   "metadata": {
    "tags": []
   },
   "outputs": [
    {
     "output_type": "stream",
     "name": "stdout",
     "text": [
      "Definitely, Maybe X\nLove Actually X\nCrazy, Stupid Love X\n500 Days of Summer X\n"
     ]
    }
   ],
   "source": [
    "def random_set_element(set_name):\n",
    "    \"\"\"Order is not actually random. It goes in sequence - because the function uses the 'pop' method. \"\"\"\n",
    "    random_element = set_name.pop()\n",
    "    set_name.add(random_element)\n",
    "    return random_element\n",
    "\n",
    "\n",
    "for i in range(0,4,1):\n",
    "    print(random_set_element(romance),'X')\n",
    "\n"
   ]
  },
  {
   "cell_type": "code",
   "execution_count": 4,
   "metadata": {
    "tags": []
   },
   "outputs": [],
   "source": [
    "rom_tuple = list(romance) # converts tuple to set for random numbers\n",
    "\n"
   ]
  },
  {
   "cell_type": "code",
   "execution_count": 5,
   "metadata": {
    "tags": []
   },
   "outputs": [
    {
     "output_type": "stream",
     "name": "stdout",
     "text": [
      "['Crazy, Stupid Love', 'Definitely, Maybe']\n"
     ]
    }
   ],
   "source": [
    "import random\n",
    "\n",
    "print(random.sample(romance,2))\n",
    "\n",
    "#This circumvents the need to build any sort of array."
   ]
  },
  {
   "cell_type": "code",
   "execution_count": 6,
   "metadata": {
    "tags": []
   },
   "outputs": [
    {
     "output_type": "stream",
     "name": "stdout",
     "text": [
      "['Definitely, Maybe', 'Crazy, Stupid Love']\n"
     ]
    }
   ],
   "source": [
    "def option_generator(set_name):\n",
    "    return random.sample(set_name, 2)\n",
    "\n",
    "print(option_generator(romance))"
   ]
  },
  {
   "cell_type": "code",
   "execution_count": 12,
   "metadata": {},
   "outputs": [
    {
     "output_type": "stream",
     "name": "stdout",
     "text": [
      "['a', 'b', 'c']\n['d', 'e', 'f']\n"
     ]
    }
   ],
   "source": [
    "my_list = ['a','b','c','d','e','f']\n",
    "\n",
    "print(my_list[:3])\n",
    "print(my_list[3:])"
   ]
  },
  {
   "cell_type": "code",
   "execution_count": 19,
   "metadata": {},
   "outputs": [
    {
     "output_type": "stream",
     "name": "stdout",
     "text": [
      "Select 3 movies from each selection.\nYou will need to enter the number for each one of your choices 1 at a time then hit enter.\nIf you choose the wrong selection, you can redo your selection.\n\nCard 1:\n\n0 Blue Valentine \n\n1 Definitely, Maybe \n\n2 The Proposal \n\n3 X-men \n\n4 Oblivion \n\n5 Expendables \n\n6 Ford v Ferrari \n\n7 Schindler's List \n\n8 Black Swan \n\n"
     ]
    },
    {
     "output_type": "execute_result",
     "data": {
      "text/plain": [
       "0"
      ]
     },
     "metadata": {},
     "execution_count": 19
    }
   ],
   "source": [
    "import random\n",
    "\n",
    "# Establish movie variety sets\n",
    "\n",
    "action = {'Jaws', 'Fast and Furious', 'Marvel Cinematic Universe', 'Mission Impossible', 'Jumanji', \n",
    "         'Expendables', 'James Bond', 'Star Wars', 'John Wick', 'X-men', 'Oblivion'\n",
    "         }\n",
    "romance = {'Crazy, Stupid Love', 'Definitely, Maybe', 'Love Actually', '500 Days of Summer', 'The Longest Ride', \n",
    "         'Her', 'Blue Valentine', 'Call Me by Your Name', 'The Proposal', 'When Harry Met Sally', 'No Strings Attached'\n",
    "         }\n",
    "artistic = {'Phantom Thread', 'Once Upon a Time in Hollywood', 'Inherent Vice', 'No Country for Old Men', 'Fargo', \n",
    "         'Good Fellas', 'Schindler\\'s List', 'The Revenant', 'American Beauty', 'Black Swan', 'Ford v Ferrari'\n",
    "         }\n",
    "\n",
    "def movie_displayer():\n",
    "    print(\"Select 3 movies from each selection.\\nYou will need to enter the number for each one of your choices 1 at a time then hit enter.\\nIf you choose the wrong selection, you can redo your selection.\")\n",
    "\n",
    "    rom_movies = list(random.sample(romance,6))\n",
    "    act_movies = list(random.sample(action,6))\n",
    "    art_movies = list(random.sample(artistic,6))\n",
    "\n",
    "    card_1 = rom_movies[:3] + act_movies[:3] + art_movies[:3]\n",
    "    card_2 = rom_movies[3:] + act_movies[3:] + art_movies[3:]\n",
    "\n",
    "    print(\"\\nCard 1:\\n\")\n",
    "\n",
    "    for i in card_1:\n",
    "        print(card_1.index(i),i,'\\n')\n",
    "\n",
    "    user_selections = list()\n",
    "    for i in range(0,3,1):\n",
    "        user_selections.append(input())\n",
    "\n",
    "    return 0\n",
    "\n",
    "movie_displayer()"
   ]
  }
 ]
}